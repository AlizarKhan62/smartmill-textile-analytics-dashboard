{
 "cells": [
  {
   "cell_type": "code",
   "execution_count": 18,
   "id": "3658417d",
   "metadata": {},
   "outputs": [],
   "source": [
    "import pandas as pd\n",
    "import numpy as np\n",
    "import os"
   ]
  },
  {
   "cell_type": "code",
   "execution_count": 19,
   "id": "1cd5fefd",
   "metadata": {},
   "outputs": [],
   "source": [
    "raw_data_path = \"../data/raw/ten_fabrics_metadata.csv\"  # Your CSV generated earlier\n",
    "cleaned_data_path = \"../data/processed/cleaned_fabrics_data.csv\""
   ]
  },
  {
   "cell_type": "code",
   "execution_count": 20,
   "id": "89a8cde0",
   "metadata": {},
   "outputs": [
    {
     "name": "stdout",
     "output_type": "stream",
     "text": [
      "📥 Loading dataset from: ../data/raw/ten_fabrics_metadata.csv\n",
      "✅ Loaded 2833 rows and 4 columns\n",
      "\n"
     ]
    }
   ],
   "source": [
    "print(\"📥 Loading dataset from:\", raw_data_path)\n",
    "\n",
    "try:\n",
    "    df = pd.read_csv(raw_data_path)\n",
    "    print(f\"✅ Loaded {len(df)} rows and {len(df.columns)} columns\\n\")\n",
    "except FileNotFoundError:\n",
    "    print(\"❌ File not found! Please check the file path.\")\n",
    "    raise"
   ]
  },
  {
   "cell_type": "code",
   "execution_count": 21,
   "id": "3f108c67",
   "metadata": {},
   "outputs": [
    {
     "name": "stdout",
     "output_type": "stream",
     "text": [
      "🔍 Sample data:\n"
     ]
    },
    {
     "data": {
      "text/html": [
       "<div>\n",
       "<style scoped>\n",
       "    .dataframe tbody tr th:only-of-type {\n",
       "        vertical-align: middle;\n",
       "    }\n",
       "\n",
       "    .dataframe tbody tr th {\n",
       "        vertical-align: top;\n",
       "    }\n",
       "\n",
       "    .dataframe thead th {\n",
       "        text-align: right;\n",
       "    }\n",
       "</style>\n",
       "<table border=\"1\" class=\"dataframe\">\n",
       "  <thead>\n",
       "    <tr style=\"text-align: right;\">\n",
       "      <th></th>\n",
       "      <th>fabric_id</th>\n",
       "      <th>image_name</th>\n",
       "      <th>defect_label</th>\n",
       "      <th>file_path</th>\n",
       "    </tr>\n",
       "  </thead>\n",
       "  <tbody>\n",
       "    <tr>\n",
       "      <th>0</th>\n",
       "      <td>1</td>\n",
       "      <td>001-001.png</td>\n",
       "      <td>256\\n256\\n16\\n16\\n0\\n0 0 0 0 0 0 0 0 0 0 0 0 0...</td>\n",
       "      <td>data/raw/TFD Textile Dataset/001/001-001.png</td>\n",
       "    </tr>\n",
       "    <tr>\n",
       "      <th>1</th>\n",
       "      <td>1</td>\n",
       "      <td>001-002.png</td>\n",
       "      <td>256\\n256\\n16\\n16\\n0\\n0 0 0 0 0 0 0 0 0 0 0 0 0...</td>\n",
       "      <td>data/raw/TFD Textile Dataset/001/001-002.png</td>\n",
       "    </tr>\n",
       "    <tr>\n",
       "      <th>2</th>\n",
       "      <td>1</td>\n",
       "      <td>001-003.png</td>\n",
       "      <td>256\\n256\\n16\\n16\\n1\\n0 0 0 0 0 0 0 0 0 0 0 0 0...</td>\n",
       "      <td>data/raw/TFD Textile Dataset/001/001-003.png</td>\n",
       "    </tr>\n",
       "    <tr>\n",
       "      <th>3</th>\n",
       "      <td>1</td>\n",
       "      <td>001-004.png</td>\n",
       "      <td>256\\n256\\n16\\n16\\n0\\n0 0 0 0 0 0 0 0 0 0 0 0 0...</td>\n",
       "      <td>data/raw/TFD Textile Dataset/001/001-004.png</td>\n",
       "    </tr>\n",
       "    <tr>\n",
       "      <th>4</th>\n",
       "      <td>1</td>\n",
       "      <td>001-005.png</td>\n",
       "      <td>256\\n256\\n16\\n16\\n0\\n0 0 0 0 0 0 0 0 0 0 0 0 0...</td>\n",
       "      <td>data/raw/TFD Textile Dataset/001/001-005.png</td>\n",
       "    </tr>\n",
       "  </tbody>\n",
       "</table>\n",
       "</div>"
      ],
      "text/plain": [
       "   fabric_id   image_name                                       defect_label  \\\n",
       "0          1  001-001.png  256\\n256\\n16\\n16\\n0\\n0 0 0 0 0 0 0 0 0 0 0 0 0...   \n",
       "1          1  001-002.png  256\\n256\\n16\\n16\\n0\\n0 0 0 0 0 0 0 0 0 0 0 0 0...   \n",
       "2          1  001-003.png  256\\n256\\n16\\n16\\n1\\n0 0 0 0 0 0 0 0 0 0 0 0 0...   \n",
       "3          1  001-004.png  256\\n256\\n16\\n16\\n0\\n0 0 0 0 0 0 0 0 0 0 0 0 0...   \n",
       "4          1  001-005.png  256\\n256\\n16\\n16\\n0\\n0 0 0 0 0 0 0 0 0 0 0 0 0...   \n",
       "\n",
       "                                      file_path  \n",
       "0  data/raw/TFD Textile Dataset/001/001-001.png  \n",
       "1  data/raw/TFD Textile Dataset/001/001-002.png  \n",
       "2  data/raw/TFD Textile Dataset/001/001-003.png  \n",
       "3  data/raw/TFD Textile Dataset/001/001-004.png  \n",
       "4  data/raw/TFD Textile Dataset/001/001-005.png  "
      ]
     },
     "metadata": {},
     "output_type": "display_data"
    }
   ],
   "source": [
    "print(\"🔍 Sample data:\")\n",
    "display(df.head())"
   ]
  },
  {
   "cell_type": "code",
   "execution_count": 22,
   "id": "18454e84",
   "metadata": {},
   "outputs": [],
   "source": [
    "if 'defect_label' in df.columns:\n",
    "    df['defect_label'] = df['defect_label'].astype(str).str.replace('\\n', ' ').str.strip()\n",
    "else:\n",
    "    print(\"⚠️ 'defect_label' column not found! Skipping cleanup for that column.\")"
   ]
  },
  {
   "cell_type": "code",
   "execution_count": 23,
   "id": "ed810c51",
   "metadata": {},
   "outputs": [],
   "source": [
    "def extract_defect_code(label):\n",
    "    parts = str(label).split()\n",
    "    try:\n",
    "        # In your data, the 5th element (index 4) seems to represent the defect code\n",
    "        return int(parts[4])\n",
    "    except:\n",
    "        return np.nan\n",
    "\n",
    "if 'defect_label' in df.columns:\n",
    "    df['defect_code'] = df['defect_label'].apply(extract_defect_code)\n",
    "else:\n",
    "    df['defect_code'] = np.nan"
   ]
  },
  {
   "cell_type": "code",
   "execution_count": 24,
   "id": "ffb483b8",
   "metadata": {},
   "outputs": [],
   "source": [
    "df = df.dropna(subset=['defect_code'])\n",
    "df['defect_code'] = df['defect_code'].astype(int)\n"
   ]
  },
  {
   "cell_type": "code",
   "execution_count": 25,
   "id": "4d1d4412",
   "metadata": {},
   "outputs": [],
   "source": [
    "df = df.drop_duplicates()\n"
   ]
  },
  {
   "cell_type": "code",
   "execution_count": 26,
   "id": "0b9c65c3",
   "metadata": {},
   "outputs": [],
   "source": [
    "def check_image_exists(path):\n",
    "    # Handle both relative and absolute paths\n",
    "    return os.path.exists(os.path.join(\"..\", path))\n",
    "\n",
    "if 'file_path' in df.columns:\n",
    "    df['image_exists'] = df['file_path'].apply(check_image_exists)\n",
    "    df = df[df['image_exists'] == True]\n",
    "else:\n",
    "    print(\"⚠️ 'file_path' column not found! Skipping image existence check.\")"
   ]
  },
  {
   "cell_type": "code",
   "execution_count": 27,
   "id": "34fadc5c",
   "metadata": {},
   "outputs": [
    {
     "name": "stdout",
     "output_type": "stream",
     "text": [
      "\n",
      "💾 Cleaned dataset saved successfully!\n",
      "📁 File: ../data/processed/cleaned_fabrics_data.csv\n",
      "🧾 Total Clean Records: 2833\n"
     ]
    }
   ],
   "source": [
    "os.makedirs(os.path.dirname(cleaned_data_path), exist_ok=True)\n",
    "df.to_csv(cleaned_data_path, index=False)\n",
    "\n",
    "print(\"\\n💾 Cleaned dataset saved successfully!\")\n",
    "print(f\"📁 File: {cleaned_data_path}\")\n",
    "print(f\"🧾 Total Clean Records: {len(df)}\")"
   ]
  },
  {
   "cell_type": "code",
   "execution_count": 28,
   "id": "b455b8d9",
   "metadata": {},
   "outputs": [
    {
     "name": "stdout",
     "output_type": "stream",
     "text": [
      "\n",
      "Summary of Defect Labels:\n",
      "defect_code\n",
      "0      2118\n",
      "2       113\n",
      "1       110\n",
      "16       96\n",
      "32       40\n",
      "       ... \n",
      "112       1\n",
      "127       1\n",
      "72        1\n",
      "83        1\n",
      "149       1\n",
      "Name: count, Length: 84, dtype: int64\n",
      "\n",
      "Columns in final dataset:\n",
      "['fabric_id', 'image_name', 'defect_label', 'file_path', 'defect_code', 'image_exists']\n"
     ]
    }
   ],
   "source": [
    "if 'defect_code' in df.columns:\n",
    "    print(\"\\nSummary of Defect Labels:\")\n",
    "    print(df['defect_code'].value_counts())\n",
    "\n",
    "print(\"\\nColumns in final dataset:\")\n",
    "print(df.columns.tolist())"
   ]
  },
  {
   "cell_type": "code",
   "execution_count": null,
   "id": "930783eb",
   "metadata": {},
   "outputs": [],
   "source": []
  }
 ],
 "metadata": {
  "kernelspec": {
   "display_name": ".venv",
   "language": "python",
   "name": "python3"
  },
  "language_info": {
   "codemirror_mode": {
    "name": "ipython",
    "version": 3
   },
   "file_extension": ".py",
   "mimetype": "text/x-python",
   "name": "python",
   "nbconvert_exporter": "python",
   "pygments_lexer": "ipython3",
   "version": "3.10.11"
  }
 },
 "nbformat": 4,
 "nbformat_minor": 5
}
