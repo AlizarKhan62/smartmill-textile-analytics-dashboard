{
 "cells": [
  {
   "cell_type": "code",
   "execution_count": 13,
   "id": "835e6738",
   "metadata": {},
   "outputs": [],
   "source": [
    "import pandas as pd\n",
    "import numpy as np\n",
    "from sklearn.model_selection import train_test_split\n",
    "from sklearn.preprocessing import StandardScaler, LabelEncoder\n",
    "from sklearn.metrics import accuracy_score, f1_score, classification_report\n",
    "from sklearn.linear_model import LogisticRegression\n",
    "from sklearn.ensemble import RandomForestClassifier\n",
    "from xgboost import XGBClassifier\n",
    "from imblearn.over_sampling import SMOTE\n",
    "import matplotlib.pyplot as plt\n",
    "import seaborn as sns"
   ]
  },
  {
   "cell_type": "code",
   "execution_count": 14,
   "id": "ae93c608",
   "metadata": {},
   "outputs": [
    {
     "name": "stdout",
     "output_type": "stream",
     "text": [
      "✅ Loaded dataset: (2833, 11)\n",
      "   defect_code     mean_R     mean_G     mean_B      std_R      std_G  \\\n",
      "0            0  75.373413  39.617188  23.330566  34.021075  24.308349   \n",
      "1            0  79.043579  42.547974  24.335571  32.848480  23.765535   \n",
      "2            1  78.707214  42.473450  24.625061  33.242653  23.830912   \n",
      "3            0  78.964783  42.764648  24.944946  33.487846  24.235159   \n",
      "4            0  79.308594  43.271423  25.482056  33.818597  24.076371   \n",
      "\n",
      "       std_B   contrast  smoothness      entropy  edge_density  \n",
      "0  17.515105  22.761960    0.042084  6115.776330      0.354004  \n",
      "1  17.445949  22.255746    0.043000  6374.644691      0.355957  \n",
      "2  17.578732  22.406508    0.042723  6370.795024      0.344666  \n",
      "3  17.820972  22.716422    0.042165  6380.411239      0.347900  \n",
      "4  17.908623  22.688086    0.042215  6424.369858      0.347595  \n"
     ]
    }
   ],
   "source": [
    "data_path = \"../data/processed/features.csv\"\n",
    "df = pd.read_csv(data_path)\n",
    "\n",
    "print(\"✅ Loaded dataset:\", df.shape)\n",
    "print(df.head())"
   ]
  },
  {
   "cell_type": "code",
   "execution_count": 15,
   "id": "4625609d",
   "metadata": {},
   "outputs": [
    {
     "name": "stdout",
     "output_type": "stream",
     "text": [
      "✅ Classes after removing rare ones: 15\n",
      "defect_code\n",
      "0     2118\n",
      "2      113\n",
      "1      110\n",
      "16      96\n",
      "32      40\n",
      "Name: count, dtype: int64\n"
     ]
    }
   ],
   "source": [
    "X = df.drop(columns=[\"defect_code\"])\n",
    "y = df[\"defect_code\"]\n",
    "\n",
    "# Remove very rare defect codes (less than 10 samples)\n",
    "counts = y.value_counts()\n",
    "rare_classes = counts[counts < 10].index\n",
    "mask = ~y.isin(rare_classes)\n",
    "X, y = X[mask], y[mask]\n",
    "\n",
    "print(f\"✅ Classes after removing rare ones: {y.nunique()}\")\n",
    "print(y.value_counts().head())"
   ]
  },
  {
   "cell_type": "code",
   "execution_count": 16,
   "id": "a5d03c1f",
   "metadata": {},
   "outputs": [
    {
     "name": "stdout",
     "output_type": "stream",
     "text": [
      "✅ After SMOTE: 31770 samples | Classes: 15\n"
     ]
    }
   ],
   "source": [
    "smote = SMOTE(random_state=42)\n",
    "X_res, y_res = smote.fit_resample(X, y)\n",
    "print(f\"✅ After SMOTE: {X_res.shape[0]} samples | Classes: {len(np.unique(y_res))}\")\n"
   ]
  },
  {
   "cell_type": "code",
   "execution_count": 17,
   "id": "512b2207",
   "metadata": {},
   "outputs": [],
   "source": [
    "X_train, X_test, y_train, y_test = train_test_split(\n",
    "    X_res, y_res, test_size=0.2, random_state=42\n",
    ")"
   ]
  },
  {
   "cell_type": "code",
   "execution_count": 18,
   "id": "27462742",
   "metadata": {},
   "outputs": [],
   "source": [
    "scaler = StandardScaler()\n",
    "X_train_scaled = scaler.fit_transform(X_train)\n",
    "X_test_scaled = scaler.transform(X_test)"
   ]
  },
  {
   "cell_type": "code",
   "execution_count": 19,
   "id": "64720b1c",
   "metadata": {},
   "outputs": [],
   "source": [
    "le = LabelEncoder()\n",
    "y_train_enc = le.fit_transform(y_train)\n",
    "y_test_enc = le.transform(y_test)"
   ]
  },
  {
   "cell_type": "code",
   "execution_count": 20,
   "id": "f54b3cf1",
   "metadata": {},
   "outputs": [],
   "source": [
    "models = {\n",
    "    \"Logistic Regression\": LogisticRegression(max_iter=1000, random_state=42),\n",
    "    \"Random Forest\": RandomForestClassifier(n_estimators=150, random_state=42),\n",
    "    \"XGBoost\": XGBClassifier(\n",
    "        n_estimators=150,\n",
    "        learning_rate=0.1,\n",
    "        max_depth=6,\n",
    "        objective=\"multi:softmax\",\n",
    "        eval_metric=\"mlogloss\",\n",
    "        random_state=42,\n",
    "        use_label_encoder=False\n",
    "    ),\n",
    "}\n"
   ]
  },
  {
   "cell_type": "code",
   "execution_count": 21,
   "id": "24dae972",
   "metadata": {},
   "outputs": [
    {
     "name": "stdout",
     "output_type": "stream",
     "text": [
      "\n",
      "🔹 Training Logistic Regression...\n",
      "✅ Logistic Regression | Accuracy: 0.3031 | F1-score: 0.2754\n",
      "              precision    recall  f1-score   support\n",
      "\n",
      "           0       0.16      0.04      0.06       400\n",
      "           1       0.28      0.14      0.19       435\n",
      "           2       0.18      0.07      0.10       441\n",
      "           3       0.35      0.33      0.34       415\n",
      "           4       0.30      0.08      0.13       436\n",
      "           5       0.43      0.08      0.13       451\n",
      "           6       0.38      0.45      0.41       431\n",
      "           9       0.51      0.44      0.47       434\n",
      "          10       0.40      0.36      0.38       422\n",
      "          13       0.27      0.29      0.28       407\n",
      "          16       0.17      0.35      0.23       434\n",
      "          18       0.28      0.79      0.41       414\n",
      "          19       0.33      0.57      0.42       427\n",
      "          20       0.37      0.20      0.26       406\n",
      "          32       0.28      0.38      0.33       401\n",
      "\n",
      "    accuracy                           0.30      6354\n",
      "   macro avg       0.31      0.30      0.28      6354\n",
      "weighted avg       0.31      0.30      0.27      6354\n",
      "\n",
      "\n",
      "🔹 Training Random Forest...\n",
      "✅ Random Forest | Accuracy: 0.9111 | F1-score: 0.9075\n",
      "              precision    recall  f1-score   support\n",
      "\n",
      "           0       0.86      0.55      0.67       400\n",
      "           1       0.86      0.86      0.86       435\n",
      "           2       0.86      0.81      0.84       441\n",
      "           3       0.91      0.97      0.94       415\n",
      "           4       0.86      0.89      0.88       436\n",
      "           5       0.94      0.94      0.94       451\n",
      "           6       0.89      0.97      0.93       431\n",
      "           9       0.93      0.95      0.94       434\n",
      "          10       0.92      0.96      0.94       422\n",
      "          13       0.94      0.98      0.96       407\n",
      "          16       0.92      0.93      0.92       434\n",
      "          18       0.93      0.98      0.95       414\n",
      "          19       0.97      0.97      0.97       427\n",
      "          20       0.93      0.96      0.95       406\n",
      "          32       0.93      0.94      0.93       401\n",
      "\n",
      "    accuracy                           0.91      6354\n",
      "   macro avg       0.91      0.91      0.91      6354\n",
      "weighted avg       0.91      0.91      0.91      6354\n",
      "\n",
      "\n",
      "🔹 Training XGBoost...\n"
     ]
    },
    {
     "name": "stderr",
     "output_type": "stream",
     "text": [
      "d:\\SmartMill_Analytics\\venv\\lib\\site-packages\\xgboost\\training.py:199: UserWarning: [10:16:24] WARNING: C:\\actions-runner\\_work\\xgboost\\xgboost\\src\\learner.cc:790: \n",
      "Parameters: { \"use_label_encoder\" } are not used.\n",
      "\n",
      "  bst.update(dtrain, iteration=i, fobj=obj)\n"
     ]
    },
    {
     "name": "stdout",
     "output_type": "stream",
     "text": [
      "✅ XGBoost | Accuracy: 0.8264 | F1-score: 0.8221\n",
      "              precision    recall  f1-score   support\n",
      "\n",
      "           0       0.76      0.46      0.57       400\n",
      "           1       0.84      0.77      0.80       435\n",
      "           2       0.78      0.68      0.73       441\n",
      "           3       0.84      0.90      0.87       415\n",
      "           4       0.76      0.74      0.75       436\n",
      "           5       0.75      0.78      0.77       451\n",
      "           6       0.79      0.92      0.85       431\n",
      "           9       0.80      0.85      0.82       434\n",
      "          10       0.87      0.83      0.85       422\n",
      "          13       0.85      0.94      0.90       407\n",
      "          16       0.88      0.87      0.87       434\n",
      "          18       0.84      0.94      0.89       414\n",
      "          19       0.90      0.94      0.92       427\n",
      "          20       0.84      0.91      0.88       406\n",
      "          32       0.88      0.86      0.87       401\n",
      "\n",
      "    accuracy                           0.83      6354\n",
      "   macro avg       0.83      0.83      0.82      6354\n",
      "weighted avg       0.82      0.83      0.82      6354\n",
      "\n"
     ]
    }
   ],
   "source": [
    "results = {}\n",
    "\n",
    "for name, model in models.items():\n",
    "    print(f\"\\n🔹 Training {name}...\")\n",
    "\n",
    "    if name == \"XGBoost\":\n",
    "        model.fit(X_train_scaled, y_train_enc)\n",
    "        y_pred = le.inverse_transform(model.predict(X_test_scaled))\n",
    "    else:\n",
    "        model.fit(X_train_scaled, y_train)\n",
    "        y_pred = model.predict(X_test_scaled)\n",
    "\n",
    "    acc = accuracy_score(y_test, y_pred)\n",
    "    f1 = f1_score(y_test, y_pred, average=\"macro\")\n",
    "\n",
    "    print(f\"✅ {name} | Accuracy: {acc:.4f} | F1-score: {f1:.4f}\")\n",
    "    print(classification_report(y_test, y_pred, zero_division=0))\n",
    "\n",
    "    results[name] = {\"Accuracy\": acc, \"F1\": f1, \"Model\": model}\n"
   ]
  },
  {
   "cell_type": "code",
   "execution_count": 22,
   "id": "85d61d3a",
   "metadata": {},
   "outputs": [
    {
     "name": "stdout",
     "output_type": "stream",
     "text": [
      "\n",
      "📊 Model Comparison:\n",
      "                      Accuracy        F1  \\\n",
      "Random Forest         0.91108  0.907539   \n",
      "XGBoost              0.826409  0.822131   \n",
      "Logistic Regression  0.303116  0.275423   \n",
      "\n",
      "                                                                 Model  \n",
      "Random Forest        (DecisionTreeClassifier(max_features='sqrt', r...  \n",
      "XGBoost              XGBClassifier(base_score=None, booster=None, c...  \n",
      "Logistic Regression  LogisticRegression(max_iter=1000, random_state...  \n"
     ]
    }
   ],
   "source": [
    "results_df = pd.DataFrame(results).T.sort_values(by=\"F1\", ascending=False)\n",
    "print(\"\\n📊 Model Comparison:\\n\", results_df)"
   ]
  },
  {
   "cell_type": "code",
   "execution_count": 23,
   "id": "cf893d8c",
   "metadata": {},
   "outputs": [
    {
     "data": {
      "image/png": "[encoded data removed]",
      "text/plain": [
       "<Figure size 800x500 with 1 Axes>"
      ]
     },
     "metadata": {},
     "output_type": "display_data"
    }
   ],
   "source": [
    "plt.figure(figsize=(8, 5))\n",
    "sns.barplot(x=results_df.index, y=results_df[\"F1\"])\n",
    "plt.title(\"Model F1-Score Comparison\")\n",
    "plt.xlabel(\"Model\")\n",
    "plt.ylabel(\"F1 Score\")\n",
    "plt.show()"
   ]
  },
  {
   "cell_type": "code",
   "execution_count": 25,
   "id": "9faad493",
   "metadata": {},
   "outputs": [
    {
     "name": "stdout",
     "output_type": "stream",
     "text": [
      "\n",
      "💾 Best model saved: Random Forest\n"
     ]
    }
   ],
   "source": [
    "import os\n",
    "import joblib\n",
    "\n",
    "# Ensure the folder exists\n",
    "os.makedirs(\"../models\", exist_ok=True)\n",
    "\n",
    "# Save best model\n",
    "best_model_name = results_df.index[0]\n",
    "best_model = results[best_model_name][\"Model\"]\n",
    "joblib.dump(best_model, f\"../models/{best_model_name.replace(' ', '_')}_best.pkl\")\n",
    "\n",
    "print(f\"\\n💾 Best model saved: {best_model_name}\")\n"
   ]
  },
  {
   "cell_type": "code",
   "execution_count": null,
   "id": "85f3379d",
   "metadata": {},
   "outputs": [],
   "source": []
  }
 ],
 "metadata": {
  "kernelspec": {
   "display_name": "venv",
   "language": "python",
   "name": "python3"
  },
  "language_info": {
   "codemirror_mode": {
    "name": "ipython",
    "version": 3
   },
   "file_extension": ".py",
   "mimetype": "text/x-python",
   "name": "python",
   "nbconvert_exporter": "python",
   "pygments_lexer": "ipython3",
   "version": "3.10.11"
  }
 },
 "nbformat": 4,
 "nbformat_minor": 5
}
